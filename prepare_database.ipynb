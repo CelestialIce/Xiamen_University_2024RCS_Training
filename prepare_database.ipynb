{
 "cells": [
  {
   "cell_type": "code",
   "execution_count": 5,
   "metadata": {},
   "outputs": [
    {
     "name": "stderr",
     "output_type": "stream",
     "text": [
      "��Ŀ¼���ļ� mnist_dataset �Ѿ����ڡ�\n"
     ]
    },
    {
     "name": "stderr",
     "output_type": "stream",
     "text": [
      "  % Total    % Received % Xferd  Average Speed   Time    Time     Time  Current\n",
      "                                 Dload  Upload   Total   Spent    Left  Speed\n",
      "\n",
      "  0     0    0     0    0     0      0      0 --:--:-- --:--:-- --:--:--     0\n",
      " 53 18006   53  9646    0     0  14013      0  0:00:01 --:--:--  0:00:01 14020\n",
      "100 18006  100 18006    0     0  25903      0 --:--:-- --:--:-- --:--:-- 25945\n",
      "  % Total    % Received % Xferd  Average Speed   Time    Time     Time  Current\n",
      "                                 Dload  Upload   Total   Spent    Left  Speed\n",
      "\n",
      "  0     0    0     0    0     0      0      0 --:--:-- --:--:-- --:--:--     0\n",
      " 18  177k   18 32768    0     0  37252      0  0:00:04 --:--:--  0:00:04 37321\n",
      "100  177k  100  177k    0     0   163k      0  0:00:01  0:00:01 --:--:--  163k\n"
     ]
    }
   ],
   "source": [
    "# 创建一个名为 mnist_dataset 的文件夹（如果不存在）\n",
    "!mkdir mnist_dataset\n",
    "# 下载测试数据集文件\n",
    "!curl -o mnist_dataset/mnist_test_10.csv https://raw.githubusercontent.com/makeyourownneuralnetwork/makeyourownneuralnetwork/master/mnist_dataset/mnist_test_10.csv\n",
    "# 下载训练数据集文件\n",
    "!curl -o mnist_dataset/mnist_train_100.csv https://raw.githubusercontent.com/makeyourownneuralnetwork/makeyourownneuralnetwork/master/mnist_dataset/mnist_train_100.csv\n"
   ]
  },
  {
   "cell_type": "code",
   "execution_count": 2,
   "metadata": {},
   "outputs": [
    {
     "name": "stderr",
     "output_type": "stream",
     "text": [
      "��Ŀ¼���ļ� mnist_dataset �Ѿ����ڡ�\n",
      "  % Total    % Received % Xferd  Average Speed   Time    Time     Time  Current\n",
      "                                 Dload  Upload   Total   Spent    Left  Speed\n",
      "\n",
      "  0     0    0     0    0     0      0      0 --:--:-- --:--:-- --:--:--     0\n",
      "  0     0    0     0    0     0      0      0 --:--:-- --:--:-- --:--:--     0\n",
      "100 9680k  100 9680k    0     0  9048k      0  0:00:01  0:00:01 --:--:-- 9063k\n",
      "  % Total    % Received % Xferd  Average Speed   Time    Time     Time  Current\n",
      "                                 Dload  Upload   Total   Spent    Left  Speed\n",
      "\n",
      "  0     0    0     0    0     0      0      0 --:--:-- --:--:-- --:--:--     0\n",
      " 68 28881   68 19677    0     0  89635      0 --:--:-- --:--:-- --:--:-- 90677\n",
      "100 28881  100 28881    0     0   127k      0 --:--:-- --:--:-- --:--:--  128k\n",
      "  % Total    % Received % Xferd  Average Speed   Time    Time     Time  Current\n",
      "                                 Dload  Upload   Total   Spent    Left  Speed\n",
      "\n",
      "  0     0    0     0    0     0      0      0 --:--:-- --:--:-- --:--:--     0\n",
      "100 1610k  100 1610k    0     0  2658k      0 --:--:-- --:--:-- --:--:-- 2665k\n",
      "  % Total    % Received % Xferd  Average Speed   Time    Time     Time  Current\n",
      "                                 Dload  Upload   Total   Spent    Left  Speed\n",
      "\n",
      "  0     0    0     0    0     0      0      0 --:--:-- --:--:-- --:--:--     0\n",
      "  0     0    0     0    0     0      0      0 --:--:-- --:--:-- --:--:--     0\n",
      "100  4542  100  4542    0     0  17473      0 --:--:-- --:--:-- --:--:-- 17604\n"
     ]
    }
   ],
   "source": [
    "#cmd命令\n",
    "# 创建一个名为 mnist_dataset 的文件夹（如果不存在）\n",
    "!mkdir mnist_dataset\n",
    "# 下载完整测试数据集文件\n",
    "# 下载完整训练数据集文件\n",
    "!curl http://yann.lecun.com/exdb/mnist/train-images-idx3-ubyte.gz -o mnist_dataset\\train-images-idx3-ubyte.gz\n",
    "!curl http://yann.lecun.com/exdb/mnist/train-labels-idx1-ubyte.gz -o mnist_dataset\\train-labels-idx1-ubyte.gz\n",
    "!curl http://yann.lecun.com/exdb/mnist/t10k-images-idx3-ubyte.gz -o mnist_dataset\\t10k-images-idx3-ubyte.gz\n",
    "!curl http://yann.lecun.com/exdb/mnist/t10k-labels-idx1-ubyte.gz -o mnist_dataset\\t10k-labels-idx1-ubyte.gz"
   ]
  },
  {
   "cell_type": "code",
   "execution_count": null,
   "metadata": {},
   "outputs": [],
   "source": [
    "#使用scoop安装gzip\n",
    "!scoop install gzip\n",
    "!gzip --version"
   ]
  },
  {
   "cell_type": "code",
   "execution_count": 3,
   "metadata": {},
   "outputs": [],
   "source": [
    "#解压原始数据集\n",
    "!gzip -d mnist_dataset\\train-images-idx3-ubyte.gz\n",
    "!gzip -d mnist_dataset\\train-labels-idx1-ubyte.gz\n",
    "!gzip -d mnist_dataset\\t10k-images-idx3-ubyte.gz\n",
    "!gzip -d mnist_dataset\\t10k-labels-idx1-ubyte.gz"
   ]
  },
  {
   "cell_type": "code",
   "execution_count": 2,
   "metadata": {},
   "outputs": [],
   "source": [
    "# This script will read the MNIST dataset images and labels from the specified paths and save them in CSV format.\n",
    "# Please adjust the paths as per your directory structure. The script assumes the MNIST dataset files are in the specified folder.\n",
    "import os\n",
    "import struct\n",
    "import numpy as np\n",
    "\n",
    "\n",
    "def read_idx(filename):\n",
    "    # This function reads IDX files and returns numpy arrays of the data.\n",
    "    with open(filename, 'rb') as f:\n",
    "        zero, data_type, dims = struct.unpack('>HBB', f.read(4))\n",
    "        shape = tuple(struct.unpack('>I', f.read(4))[0] for d in range(dims))\n",
    "        return np.frombuffer(f.read(), dtype=np.uint8).reshape(shape)\n",
    "\n",
    "\n",
    "def save_to_csv_with_limit(images, labels, output_csv_file, num_images):\n",
    "    \"\"\"\n",
    "    Save a limited number of images and labels to a CSV file.\n",
    "    \"\"\"\n",
    "    # Limit the number of images and labels\n",
    "    limited_images = images[:num_images]\n",
    "    limited_labels = labels[:num_images]\n",
    "\n",
    "    # Flatten the image array and combine it with labels\n",
    "    flat_images = limited_images.reshape(limited_images.shape[0], -1)\n",
    "    data = np.hstack((limited_labels[:, np.newaxis], flat_images))\n",
    "\n",
    "    # Save to CSV\n",
    "    np.savetxt(output_csv_file, data, fmt='%i', delimiter=',')\n",
    "\n",
    "\n",
    "# Paths to the MNIST dataset files\n",
    "dataset_folder = r'mnist_dataset'\n",
    "train_images_path = os.path.join(dataset_folder, 'train-images-idx3-ubyte')\n",
    "train_labels_path = os.path.join(dataset_folder, 'train-labels-idx1-ubyte')\n",
    "test_images_path = os.path.join(dataset_folder, 't10k-images-idx3-ubyte')\n",
    "test_labels_path = os.path.join(dataset_folder, 't10k-labels-idx1-ubyte')\n",
    "\n",
    "# Number of images to process\n",
    "train_images_num = 1345\n",
    "test_images_num = 234\n",
    "\n",
    "# Read the full dataset\n",
    "train_images = read_idx(train_images_path)\n",
    "train_labels = read_idx(train_labels_path)\n",
    "test_images = read_idx(test_images_path)\n",
    "test_labels = read_idx(test_labels_path)\n",
    "\n",
    "# Save a limited number of images to CSV\n",
    "save_to_csv_with_limit(train_images, train_labels, os.path.join(\n",
    "    dataset_folder, 'mnist_train.csv'), train_images_num)\n",
    "save_to_csv_with_limit(test_images, test_labels, os.path.join(\n",
    "    dataset_folder, 'mnist_test.csv'), test_images_num)\n",
    "\n"
   ]
  }
 ],
 "metadata": {
  "kernelspec": {
   "display_name": "yolov5",
   "language": "python",
   "name": "python3"
  },
  "language_info": {
   "codemirror_mode": {
    "name": "ipython",
    "version": 3
   },
   "file_extension": ".py",
   "mimetype": "text/x-python",
   "name": "python",
   "nbconvert_exporter": "python",
   "pygments_lexer": "ipython3",
   "version": "3.10.13"
  }
 },
 "nbformat": 4,
 "nbformat_minor": 2
}
